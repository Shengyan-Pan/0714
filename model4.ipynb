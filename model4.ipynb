{
 "cells": [
  {
   "cell_type": "code",
   "execution_count": 1,
   "metadata": {},
   "outputs": [],
   "source": [
    "#資料預處理"
   ]
  },
  {
   "cell_type": "code",
   "execution_count": 2,
   "metadata": {},
   "outputs": [
    {
     "name": "stderr",
     "output_type": "stream",
     "text": [
      "Using TensorFlow backend.\n"
     ]
    }
   ],
   "source": [
    "import numpy as np\n",
    "import pandas as pd\n",
    "from keras.utils import np_utils\n",
    "np.random.seed(10)"
   ]
  },
  {
   "cell_type": "code",
   "execution_count": 3,
   "metadata": {},
   "outputs": [],
   "source": [
    "from keras.datasets import mnist"
   ]
  },
  {
   "cell_type": "code",
   "execution_count": 4,
   "metadata": {},
   "outputs": [],
   "source": [
    "(x_train_image, y_train_label), \\\n",
    "(x_test_image, y_test_label) = mnist.load_data()"
   ]
  },
  {
   "cell_type": "code",
   "execution_count": 5,
   "metadata": {},
   "outputs": [
    {
     "data": {
      "text/plain": [
       "(60000, 28, 28)"
      ]
     },
     "execution_count": 5,
     "metadata": {},
     "output_type": "execute_result"
    }
   ],
   "source": [
    "x_train_image.shape"
   ]
  },
  {
   "cell_type": "code",
   "execution_count": 6,
   "metadata": {},
   "outputs": [
    {
     "data": {
      "text/plain": [
       "(60000,)"
      ]
     },
     "execution_count": 6,
     "metadata": {},
     "output_type": "execute_result"
    }
   ],
   "source": [
    "y_train_label.shape"
   ]
  },
  {
   "cell_type": "code",
   "execution_count": 7,
   "metadata": {},
   "outputs": [],
   "source": [
    "x_Train =x_train_image.reshape(60000, 784).astype('float32')\n",
    "x_Test = x_test_image.reshape(10000, 784).astype('float32')\n",
    "x_Train_normalize = x_Train / 255\n",
    "x_Test_normalize = x_Test / 255\n",
    "y_Train_OneHot = np_utils.to_categorical(y_train_label)\n",
    "y_Test_OneHot = np_utils.to_categorical(y_test_label)"
   ]
  },
  {
   "cell_type": "code",
   "execution_count": 8,
   "metadata": {},
   "outputs": [],
   "source": [
    "#建立模型"
   ]
  },
  {
   "cell_type": "code",
   "execution_count": 9,
   "metadata": {},
   "outputs": [],
   "source": [
    "from keras.models import Sequential\n",
    "from keras.layers import Dense"
   ]
  },
  {
   "cell_type": "code",
   "execution_count": 10,
   "metadata": {},
   "outputs": [],
   "source": [
    "model = Sequential()"
   ]
  },
  {
   "cell_type": "code",
   "execution_count": 11,
   "metadata": {},
   "outputs": [],
   "source": [
    "model.add(Dense(units=256, \n",
    "                input_dim=784, \n",
    "                kernel_initializer='normal', \n",
    "                activation='relu'))"
   ]
  },
  {
   "cell_type": "code",
   "execution_count": null,
   "metadata": {},
   "outputs": [],
   "source": []
  },
  {
   "cell_type": "code",
   "execution_count": null,
   "metadata": {},
   "outputs": [],
   "source": []
  },
  {
   "cell_type": "code",
   "execution_count": 12,
   "metadata": {},
   "outputs": [],
   "source": [
    "model.add(Dense(units=10, \n",
    "                kernel_initializer='normal', \n",
    "                activation='softmax'))"
   ]
  },
  {
   "cell_type": "code",
   "execution_count": 13,
   "metadata": {},
   "outputs": [
    {
     "name": "stdout",
     "output_type": "stream",
     "text": [
      "Model: \"sequential_1\"\n",
      "_________________________________________________________________\n",
      "Layer (type)                 Output Shape              Param #   \n",
      "=================================================================\n",
      "dense_1 (Dense)              (None, 256)               200960    \n",
      "_________________________________________________________________\n",
      "dense_2 (Dense)              (None, 10)                2570      \n",
      "=================================================================\n",
      "Total params: 203,530\n",
      "Trainable params: 203,530\n",
      "Non-trainable params: 0\n",
      "_________________________________________________________________\n",
      "None\n"
     ]
    }
   ],
   "source": [
    "print(model.summary())"
   ]
  },
  {
   "cell_type": "code",
   "execution_count": 14,
   "metadata": {},
   "outputs": [],
   "source": [
    "#訓練模型"
   ]
  },
  {
   "cell_type": "code",
   "execution_count": 15,
   "metadata": {},
   "outputs": [],
   "source": [
    "model.compile(loss='categorical_crossentropy', \n",
    "              optimizer='adam', metrics=['accuracy'])"
   ]
  },
  {
   "cell_type": "code",
   "execution_count": 16,
   "metadata": {},
   "outputs": [
    {
     "name": "stdout",
     "output_type": "stream",
     "text": [
      "Train on 48000 samples, validate on 12000 samples\n",
      "Epoch 1/50\n",
      " - 2s - loss: 0.5637 - accuracy: 0.8541 - val_loss: 0.2667 - val_accuracy: 0.9253\n",
      "Epoch 2/50\n",
      " - 1s - loss: 0.2418 - accuracy: 0.9320 - val_loss: 0.1937 - val_accuracy: 0.9468\n",
      "Epoch 3/50\n",
      " - 1s - loss: 0.1785 - accuracy: 0.9494 - val_loss: 0.1642 - val_accuracy: 0.9542\n",
      "Epoch 4/50\n",
      " - 1s - loss: 0.1420 - accuracy: 0.9600 - val_loss: 0.1385 - val_accuracy: 0.9608\n",
      "Epoch 5/50\n",
      " - 1s - loss: 0.1152 - accuracy: 0.9680 - val_loss: 0.1242 - val_accuracy: 0.9657\n",
      "Epoch 6/50\n",
      " - 2s - loss: 0.0959 - accuracy: 0.9737 - val_loss: 0.1093 - val_accuracy: 0.9672\n",
      "Epoch 7/50\n",
      " - 2s - loss: 0.0814 - accuracy: 0.9780 - val_loss: 0.1045 - val_accuracy: 0.9704\n",
      "Epoch 8/50\n",
      " - 2s - loss: 0.0703 - accuracy: 0.9809 - val_loss: 0.0985 - val_accuracy: 0.9706\n",
      "Epoch 9/50\n",
      " - 2s - loss: 0.0614 - accuracy: 0.9834 - val_loss: 0.0918 - val_accuracy: 0.9726\n",
      "Epoch 10/50\n",
      " - 2s - loss: 0.0537 - accuracy: 0.9859 - val_loss: 0.0872 - val_accuracy: 0.9744\n",
      "Epoch 11/50\n",
      " - 2s - loss: 0.0464 - accuracy: 0.9882 - val_loss: 0.0866 - val_accuracy: 0.9738\n",
      "Epoch 12/50\n",
      " - 2s - loss: 0.0407 - accuracy: 0.9901 - val_loss: 0.0836 - val_accuracy: 0.9756\n",
      "Epoch 13/50\n",
      " - 2s - loss: 0.0349 - accuracy: 0.9919 - val_loss: 0.0816 - val_accuracy: 0.9755\n",
      "Epoch 14/50\n",
      " - 2s - loss: 0.0306 - accuracy: 0.9932 - val_loss: 0.0792 - val_accuracy: 0.9768\n",
      "Epoch 15/50\n",
      " - 2s - loss: 0.0275 - accuracy: 0.9939 - val_loss: 0.0807 - val_accuracy: 0.9759\n",
      "Epoch 16/50\n",
      " - 2s - loss: 0.0240 - accuracy: 0.9950 - val_loss: 0.0778 - val_accuracy: 0.9772\n",
      "Epoch 17/50\n",
      " - 2s - loss: 0.0206 - accuracy: 0.9960 - val_loss: 0.0785 - val_accuracy: 0.9765\n",
      "Epoch 18/50\n",
      " - 2s - loss: 0.0183 - accuracy: 0.9969 - val_loss: 0.0801 - val_accuracy: 0.9770\n",
      "Epoch 19/50\n",
      " - 2s - loss: 0.0164 - accuracy: 0.9973 - val_loss: 0.0791 - val_accuracy: 0.9765\n",
      "Epoch 20/50\n",
      " - 2s - loss: 0.0142 - accuracy: 0.9977 - val_loss: 0.0793 - val_accuracy: 0.9778\n",
      "Epoch 21/50\n",
      " - 2s - loss: 0.0126 - accuracy: 0.9984 - val_loss: 0.0788 - val_accuracy: 0.9785\n",
      "Epoch 22/50\n",
      " - 2s - loss: 0.0109 - accuracy: 0.9987 - val_loss: 0.0788 - val_accuracy: 0.9781\n",
      "Epoch 23/50\n",
      " - 1s - loss: 0.0096 - accuracy: 0.9991 - val_loss: 0.0803 - val_accuracy: 0.9786\n",
      "Epoch 24/50\n",
      " - 2s - loss: 0.0086 - accuracy: 0.9993 - val_loss: 0.0789 - val_accuracy: 0.9775\n",
      "Epoch 25/50\n",
      " - 1s - loss: 0.0076 - accuracy: 0.9995 - val_loss: 0.0807 - val_accuracy: 0.9772\n",
      "Epoch 26/50\n",
      " - 2s - loss: 0.0066 - accuracy: 0.9997 - val_loss: 0.0803 - val_accuracy: 0.9778\n",
      "Epoch 27/50\n",
      " - 1s - loss: 0.0058 - accuracy: 0.9997 - val_loss: 0.0820 - val_accuracy: 0.9790\n",
      "Epoch 28/50\n",
      " - 2s - loss: 0.0056 - accuracy: 0.9996 - val_loss: 0.0829 - val_accuracy: 0.9774\n",
      "Epoch 29/50\n",
      " - 1s - loss: 0.0049 - accuracy: 0.9998 - val_loss: 0.0810 - val_accuracy: 0.9788\n",
      "Epoch 30/50\n",
      " - 2s - loss: 0.0042 - accuracy: 0.9998 - val_loss: 0.0838 - val_accuracy: 0.9787\n",
      "Epoch 31/50\n",
      " - 2s - loss: 0.0037 - accuracy: 0.9999 - val_loss: 0.0831 - val_accuracy: 0.9783\n",
      "Epoch 32/50\n",
      " - 2s - loss: 0.0033 - accuracy: 1.0000 - val_loss: 0.0831 - val_accuracy: 0.9786\n",
      "Epoch 33/50\n",
      " - 1s - loss: 0.0030 - accuracy: 0.9999 - val_loss: 0.0854 - val_accuracy: 0.9788\n",
      "Epoch 34/50\n",
      " - 2s - loss: 0.0028 - accuracy: 1.0000 - val_loss: 0.0852 - val_accuracy: 0.9787\n",
      "Epoch 35/50\n",
      " - 2s - loss: 0.0024 - accuracy: 1.0000 - val_loss: 0.0860 - val_accuracy: 0.9792\n",
      "Epoch 36/50\n",
      " - 2s - loss: 0.0022 - accuracy: 1.0000 - val_loss: 0.0863 - val_accuracy: 0.9791\n",
      "Epoch 37/50\n",
      " - 1s - loss: 0.0020 - accuracy: 1.0000 - val_loss: 0.0882 - val_accuracy: 0.9787\n",
      "Epoch 38/50\n",
      " - 2s - loss: 0.0020 - accuracy: 1.0000 - val_loss: 0.0886 - val_accuracy: 0.9794\n",
      "Epoch 39/50\n",
      " - 2s - loss: 0.0016 - accuracy: 1.0000 - val_loss: 0.0873 - val_accuracy: 0.9797\n",
      "Epoch 40/50\n",
      " - 2s - loss: 0.0015 - accuracy: 1.0000 - val_loss: 0.0882 - val_accuracy: 0.9794\n",
      "Epoch 41/50\n",
      " - 2s - loss: 0.0014 - accuracy: 1.0000 - val_loss: 0.0890 - val_accuracy: 0.9794\n",
      "Epoch 42/50\n",
      " - 2s - loss: 0.0012 - accuracy: 1.0000 - val_loss: 0.0897 - val_accuracy: 0.9796\n",
      "Epoch 43/50\n",
      " - 2s - loss: 0.0012 - accuracy: 1.0000 - val_loss: 0.0900 - val_accuracy: 0.9795\n",
      "Epoch 44/50\n",
      " - 2s - loss: 0.0011 - accuracy: 1.0000 - val_loss: 0.0914 - val_accuracy: 0.9789\n",
      "Epoch 45/50\n",
      " - 2s - loss: 9.5311e-04 - accuracy: 1.0000 - val_loss: 0.0912 - val_accuracy: 0.9796\n",
      "Epoch 46/50\n",
      " - 2s - loss: 8.9838e-04 - accuracy: 1.0000 - val_loss: 0.0924 - val_accuracy: 0.9796\n",
      "Epoch 47/50\n",
      " - 2s - loss: 8.1229e-04 - accuracy: 1.0000 - val_loss: 0.0928 - val_accuracy: 0.9793\n",
      "Epoch 48/50\n",
      " - 2s - loss: 7.4944e-04 - accuracy: 1.0000 - val_loss: 0.0931 - val_accuracy: 0.9797\n",
      "Epoch 49/50\n",
      " - 1s - loss: 7.0603e-04 - accuracy: 1.0000 - val_loss: 0.0941 - val_accuracy: 0.9797\n",
      "Epoch 50/50\n",
      " - 2s - loss: 6.3347e-04 - accuracy: 1.0000 - val_loss: 0.0951 - val_accuracy: 0.9796\n"
     ]
    }
   ],
   "source": [
    "train_history =model.fit(x=x_Train_normalize,\n",
    "                         y=y_Train_OneHot,validation_split=0.2, \n",
    "                         epochs=50, batch_size=400,verbose=2)"
   ]
  },
  {
   "cell_type": "code",
   "execution_count": 17,
   "metadata": {},
   "outputs": [],
   "source": [
    "#以圖形顯示訓練過程"
   ]
  },
  {
   "cell_type": "code",
   "execution_count": 18,
   "metadata": {},
   "outputs": [],
   "source": [
    "import matplotlib.pyplot as plt\n",
    "def show_train_history(train_history,train,validation):\n",
    "    plt.plot(train_history.history[train])\n",
    "    plt.plot(train_history.history[validation])\n",
    "    plt.title('Train History')\n",
    "    plt.ylabel(train)\n",
    "    plt.xlabel('Epoch')\n",
    "    plt.legend(['train', 'validation'], loc='upper left')\n",
    "    plt.show()"
   ]
  },
  {
   "cell_type": "code",
   "execution_count": 19,
   "metadata": {},
   "outputs": [
    {
     "data": {
      "image/png": "[encoded data removed]",
      "text/plain": [
       "<Figure size 432x288 with 1 Axes>"
      ]
     },
     "metadata": {
      "needs_background": "light"
     },
     "output_type": "display_data"
    }
   ],
   "source": [
    "show_train_history(train_history,'accuracy','val_accuracy')"
   ]
  },
  {
   "cell_type": "code",
   "execution_count": 20,
   "metadata": {},
   "outputs": [
    {
     "data": {
      "image/png": "[encoded data removed]",
      "text/plain": [
       "<Figure size 432x288 with 1 Axes>"
      ]
     },
     "metadata": {
      "needs_background": "light"
     },
     "output_type": "display_data"
    }
   ],
   "source": [
    "show_train_history(train_history,'loss','val_loss')"
   ]
  },
  {
   "cell_type": "code",
   "execution_count": 21,
   "metadata": {},
   "outputs": [],
   "source": [
    "#評估模型準確率"
   ]
  },
  {
   "cell_type": "code",
   "execution_count": 22,
   "metadata": {},
   "outputs": [
    {
     "name": "stdout",
     "output_type": "stream",
     "text": [
      "10000/10000 [==============================] - 0s 48us/step\n",
      "\n",
      "accuracy= 0.9805999994277954\n"
     ]
    }
   ],
   "source": [
    "scores = model.evaluate(x_Test_normalize, y_Test_OneHot)\n",
    "print()\n",
    "print('accuracy=',scores[1])"
   ]
  },
  {
   "cell_type": "code",
   "execution_count": 23,
   "metadata": {},
   "outputs": [],
   "source": [
    "#進行預測"
   ]
  },
  {
   "cell_type": "code",
   "execution_count": 24,
   "metadata": {},
   "outputs": [],
   "source": [
    "prediction=model.predict_classes(x_Test)"
   ]
  },
  {
   "cell_type": "code",
   "execution_count": 25,
   "metadata": {},
   "outputs": [
    {
     "data": {
      "text/plain": [
       "array([7, 2, 1, ..., 4, 5, 6], dtype=int64)"
      ]
     },
     "execution_count": 25,
     "metadata": {},
     "output_type": "execute_result"
    }
   ],
   "source": [
    "prediction"
   ]
  },
  {
   "cell_type": "code",
   "execution_count": 26,
   "metadata": {},
   "outputs": [],
   "source": [
    "import matplotlib.pyplot as plt\n",
    "def plot_images_labels_prediction(images,labels,prediction,\n",
    "                                  idx,num=10):\n",
    "    fig = plt.gcf()\n",
    "    fig.set_size_inches(12, 14)\n",
    "    if num>25: num=25 \n",
    "    for i in range(0, num):\n",
    "        ax=plt.subplot(5,5, 1+i)\n",
    "        ax.imshow(images[idx], cmap='binary')\n",
    "        title= \"label=\" +str(labels[idx])\n",
    "        if len(prediction)>0:\n",
    "            title+=\",predict=\"+str(prediction[idx]) \n",
    "            \n",
    "        ax.set_title(title,fontsize=10) \n",
    "        ax.set_xticks([]);ax.set_yticks([])        \n",
    "        idx+=1 \n",
    "    plt.show()"
   ]
  },
  {
   "cell_type": "code",
   "execution_count": 27,
   "metadata": {},
   "outputs": [
    {
     "data": {
      "image/png": "[encoded data removed]",
      "text/plain": [
       "<Figure size 864x1008 with 10 Axes>"
      ]
     },
     "metadata": {},
     "output_type": "display_data"
    }
   ],
   "source": [
    "plot_images_labels_prediction(x_test_image,y_test_label,\n",
    "                              prediction,idx=989)"
   ]
  },
  {
   "cell_type": "code",
   "execution_count": 28,
   "metadata": {},
   "outputs": [],
   "source": [
    "#confusion matrix"
   ]
  },
  {
   "cell_type": "code",
   "execution_count": 29,
   "metadata": {},
   "outputs": [
    {
     "data": {
      "text/html": [
       "<div>\n",
       "<style scoped>\n",
       "    .dataframe tbody tr th:only-of-type {\n",
       "        vertical-align: middle;\n",
       "    }\n",
       "\n",
       "    .dataframe tbody tr th {\n",
       "        vertical-align: top;\n",
       "    }\n",
       "\n",
       "    .dataframe thead th {\n",
       "        text-align: right;\n",
       "    }\n",
       "</style>\n",
       "<table border=\"1\" class=\"dataframe\">\n",
       "  <thead>\n",
       "    <tr style=\"text-align: right;\">\n",
       "      <th>predict</th>\n",
       "      <th>0</th>\n",
       "      <th>1</th>\n",
       "      <th>2</th>\n",
       "      <th>3</th>\n",
       "      <th>4</th>\n",
       "      <th>5</th>\n",
       "      <th>6</th>\n",
       "      <th>7</th>\n",
       "      <th>8</th>\n",
       "      <th>9</th>\n",
       "    </tr>\n",
       "    <tr>\n",
       "      <th>label</th>\n",
       "      <th></th>\n",
       "      <th></th>\n",
       "      <th></th>\n",
       "      <th></th>\n",
       "      <th></th>\n",
       "      <th></th>\n",
       "      <th></th>\n",
       "      <th></th>\n",
       "      <th></th>\n",
       "      <th></th>\n",
       "    </tr>\n",
       "  </thead>\n",
       "  <tbody>\n",
       "    <tr>\n",
       "      <th>0</th>\n",
       "      <td>972</td>\n",
       "      <td>0</td>\n",
       "      <td>1</td>\n",
       "      <td>0</td>\n",
       "      <td>1</td>\n",
       "      <td>0</td>\n",
       "      <td>2</td>\n",
       "      <td>1</td>\n",
       "      <td>3</td>\n",
       "      <td>0</td>\n",
       "    </tr>\n",
       "    <tr>\n",
       "      <th>1</th>\n",
       "      <td>0</td>\n",
       "      <td>1126</td>\n",
       "      <td>3</td>\n",
       "      <td>0</td>\n",
       "      <td>0</td>\n",
       "      <td>1</td>\n",
       "      <td>2</td>\n",
       "      <td>1</td>\n",
       "      <td>2</td>\n",
       "      <td>0</td>\n",
       "    </tr>\n",
       "    <tr>\n",
       "      <th>2</th>\n",
       "      <td>4</td>\n",
       "      <td>1</td>\n",
       "      <td>1012</td>\n",
       "      <td>1</td>\n",
       "      <td>0</td>\n",
       "      <td>0</td>\n",
       "      <td>2</td>\n",
       "      <td>8</td>\n",
       "      <td>4</td>\n",
       "      <td>0</td>\n",
       "    </tr>\n",
       "    <tr>\n",
       "      <th>3</th>\n",
       "      <td>0</td>\n",
       "      <td>0</td>\n",
       "      <td>4</td>\n",
       "      <td>992</td>\n",
       "      <td>0</td>\n",
       "      <td>4</td>\n",
       "      <td>0</td>\n",
       "      <td>4</td>\n",
       "      <td>3</td>\n",
       "      <td>3</td>\n",
       "    </tr>\n",
       "    <tr>\n",
       "      <th>4</th>\n",
       "      <td>1</td>\n",
       "      <td>0</td>\n",
       "      <td>1</td>\n",
       "      <td>2</td>\n",
       "      <td>956</td>\n",
       "      <td>0</td>\n",
       "      <td>4</td>\n",
       "      <td>4</td>\n",
       "      <td>2</td>\n",
       "      <td>12</td>\n",
       "    </tr>\n",
       "    <tr>\n",
       "      <th>5</th>\n",
       "      <td>2</td>\n",
       "      <td>0</td>\n",
       "      <td>0</td>\n",
       "      <td>12</td>\n",
       "      <td>1</td>\n",
       "      <td>866</td>\n",
       "      <td>3</td>\n",
       "      <td>1</td>\n",
       "      <td>4</td>\n",
       "      <td>3</td>\n",
       "    </tr>\n",
       "    <tr>\n",
       "      <th>6</th>\n",
       "      <td>6</td>\n",
       "      <td>2</td>\n",
       "      <td>1</td>\n",
       "      <td>1</td>\n",
       "      <td>3</td>\n",
       "      <td>3</td>\n",
       "      <td>942</td>\n",
       "      <td>0</td>\n",
       "      <td>0</td>\n",
       "      <td>0</td>\n",
       "    </tr>\n",
       "    <tr>\n",
       "      <th>7</th>\n",
       "      <td>0</td>\n",
       "      <td>5</td>\n",
       "      <td>5</td>\n",
       "      <td>1</td>\n",
       "      <td>0</td>\n",
       "      <td>0</td>\n",
       "      <td>0</td>\n",
       "      <td>1013</td>\n",
       "      <td>1</td>\n",
       "      <td>3</td>\n",
       "    </tr>\n",
       "    <tr>\n",
       "      <th>8</th>\n",
       "      <td>4</td>\n",
       "      <td>1</td>\n",
       "      <td>6</td>\n",
       "      <td>10</td>\n",
       "      <td>5</td>\n",
       "      <td>3</td>\n",
       "      <td>1</td>\n",
       "      <td>6</td>\n",
       "      <td>934</td>\n",
       "      <td>4</td>\n",
       "    </tr>\n",
       "    <tr>\n",
       "      <th>9</th>\n",
       "      <td>2</td>\n",
       "      <td>3</td>\n",
       "      <td>0</td>\n",
       "      <td>5</td>\n",
       "      <td>6</td>\n",
       "      <td>3</td>\n",
       "      <td>1</td>\n",
       "      <td>8</td>\n",
       "      <td>0</td>\n",
       "      <td>981</td>\n",
       "    </tr>\n",
       "  </tbody>\n",
       "</table>\n",
       "</div>"
      ],
      "text/plain": [
       "predict    0     1     2    3    4    5    6     7    8    9\n",
       "label                                                       \n",
       "0        972     0     1    0    1    0    2     1    3    0\n",
       "1          0  1126     3    0    0    1    2     1    2    0\n",
       "2          4     1  1012    1    0    0    2     8    4    0\n",
       "3          0     0     4  992    0    4    0     4    3    3\n",
       "4          1     0     1    2  956    0    4     4    2   12\n",
       "5          2     0     0   12    1  866    3     1    4    3\n",
       "6          6     2     1    1    3    3  942     0    0    0\n",
       "7          0     5     5    1    0    0    0  1013    1    3\n",
       "8          4     1     6   10    5    3    1     6  934    4\n",
       "9          2     3     0    5    6    3    1     8    0  981"
      ]
     },
     "execution_count": 29,
     "metadata": {},
     "output_type": "execute_result"
    }
   ],
   "source": [
    "import pandas as pd\n",
    "pd.crosstab(y_test_label,prediction,\n",
    "            rownames=['label'],colnames=['predict'])"
   ]
  },
  {
   "cell_type": "code",
   "execution_count": 30,
   "metadata": {},
   "outputs": [
    {
     "data": {
      "text/html": [
       "<div>\n",
       "<style scoped>\n",
       "    .dataframe tbody tr th:only-of-type {\n",
       "        vertical-align: middle;\n",
       "    }\n",
       "\n",
       "    .dataframe tbody tr th {\n",
       "        vertical-align: top;\n",
       "    }\n",
       "\n",
       "    .dataframe thead th {\n",
       "        text-align: right;\n",
       "    }\n",
       "</style>\n",
       "<table border=\"1\" class=\"dataframe\">\n",
       "  <thead>\n",
       "    <tr style=\"text-align: right;\">\n",
       "      <th></th>\n",
       "      <th>label</th>\n",
       "      <th>predict</th>\n",
       "    </tr>\n",
       "  </thead>\n",
       "  <tbody>\n",
       "    <tr>\n",
       "      <th>0</th>\n",
       "      <td>7</td>\n",
       "      <td>7</td>\n",
       "    </tr>\n",
       "    <tr>\n",
       "      <th>1</th>\n",
       "      <td>2</td>\n",
       "      <td>2</td>\n",
       "    </tr>\n",
       "  </tbody>\n",
       "</table>\n",
       "</div>"
      ],
      "text/plain": [
       "   label  predict\n",
       "0      7        7\n",
       "1      2        2"
      ]
     },
     "execution_count": 30,
     "metadata": {},
     "output_type": "execute_result"
    }
   ],
   "source": [
    "df = pd.DataFrame({'label':y_test_label, 'predict':prediction})\n",
    "df[:2]"
   ]
  },
  {
   "cell_type": "code",
   "execution_count": 31,
   "metadata": {},
   "outputs": [
    {
     "data": {
      "text/html": [
       "<div>\n",
       "<style scoped>\n",
       "    .dataframe tbody tr th:only-of-type {\n",
       "        vertical-align: middle;\n",
       "    }\n",
       "\n",
       "    .dataframe tbody tr th {\n",
       "        vertical-align: top;\n",
       "    }\n",
       "\n",
       "    .dataframe thead th {\n",
       "        text-align: right;\n",
       "    }\n",
       "</style>\n",
       "<table border=\"1\" class=\"dataframe\">\n",
       "  <thead>\n",
       "    <tr style=\"text-align: right;\">\n",
       "      <th></th>\n",
       "      <th>label</th>\n",
       "      <th>predict</th>\n",
       "    </tr>\n",
       "  </thead>\n",
       "  <tbody>\n",
       "    <tr>\n",
       "      <th>340</th>\n",
       "      <td>5</td>\n",
       "      <td>3</td>\n",
       "    </tr>\n",
       "    <tr>\n",
       "      <th>1003</th>\n",
       "      <td>5</td>\n",
       "      <td>3</td>\n",
       "    </tr>\n",
       "    <tr>\n",
       "      <th>1393</th>\n",
       "      <td>5</td>\n",
       "      <td>3</td>\n",
       "    </tr>\n",
       "    <tr>\n",
       "      <th>1670</th>\n",
       "      <td>5</td>\n",
       "      <td>3</td>\n",
       "    </tr>\n",
       "    <tr>\n",
       "      <th>2035</th>\n",
       "      <td>5</td>\n",
       "      <td>3</td>\n",
       "    </tr>\n",
       "    <tr>\n",
       "      <th>2597</th>\n",
       "      <td>5</td>\n",
       "      <td>3</td>\n",
       "    </tr>\n",
       "    <tr>\n",
       "      <th>2810</th>\n",
       "      <td>5</td>\n",
       "      <td>3</td>\n",
       "    </tr>\n",
       "    <tr>\n",
       "      <th>3902</th>\n",
       "      <td>5</td>\n",
       "      <td>3</td>\n",
       "    </tr>\n",
       "    <tr>\n",
       "      <th>4271</th>\n",
       "      <td>5</td>\n",
       "      <td>3</td>\n",
       "    </tr>\n",
       "    <tr>\n",
       "      <th>4360</th>\n",
       "      <td>5</td>\n",
       "      <td>3</td>\n",
       "    </tr>\n",
       "    <tr>\n",
       "      <th>5937</th>\n",
       "      <td>5</td>\n",
       "      <td>3</td>\n",
       "    </tr>\n",
       "    <tr>\n",
       "      <th>5972</th>\n",
       "      <td>5</td>\n",
       "      <td>3</td>\n",
       "    </tr>\n",
       "  </tbody>\n",
       "</table>\n",
       "</div>"
      ],
      "text/plain": [
       "      label  predict\n",
       "340       5        3\n",
       "1003      5        3\n",
       "1393      5        3\n",
       "1670      5        3\n",
       "2035      5        3\n",
       "2597      5        3\n",
       "2810      5        3\n",
       "3902      5        3\n",
       "4271      5        3\n",
       "4360      5        3\n",
       "5937      5        3\n",
       "5972      5        3"
      ]
     },
     "execution_count": 31,
     "metadata": {},
     "output_type": "execute_result"
    }
   ],
   "source": [
    "df[(df.label==5)&(df.predict==3)]"
   ]
  },
  {
   "cell_type": "code",
   "execution_count": 32,
   "metadata": {},
   "outputs": [
    {
     "data": {
      "image/png": "[encoded data removed]",
      "text/plain": [
       "<Figure size 864x1008 with 1 Axes>"
      ]
     },
     "metadata": {},
     "output_type": "display_data"
    }
   ],
   "source": [
    "plot_images_labels_prediction(x_test_image,y_test_label\n",
    "                              ,prediction,idx=1670,num=1)"
   ]
  },
  {
   "cell_type": "code",
   "execution_count": 33,
   "metadata": {},
   "outputs": [
    {
     "data": {
      "image/png": "[encoded data removed]",
      "text/plain": [
       "<Figure size 864x1008 with 1 Axes>"
      ]
     },
     "metadata": {},
     "output_type": "display_data"
    }
   ],
   "source": [
    "plot_images_labels_prediction(x_test_image,y_test_label\n",
    "                              ,prediction,idx=1289,num=1)"
   ]
  },
  {
   "cell_type": "code",
   "execution_count": null,
   "metadata": {},
   "outputs": [],
   "source": []
  },
  {
   "cell_type": "code",
   "execution_count": null,
   "metadata": {},
   "outputs": [],
   "source": []
  },
  {
   "cell_type": "code",
   "execution_count": null,
   "metadata": {},
   "outputs": [],
   "source": []
  },
  {
   "cell_type": "code",
   "execution_count": null,
   "metadata": {},
   "outputs": [],
   "source": []
  }
 ],
 "metadata": {
  "kernelspec": {
   "display_name": "Python 3",
   "language": "python",
   "name": "python3"
  },
  "language_info": {
   "codemirror_mode": {
    "name": "ipython",
    "version": 3
   },
   "file_extension": ".py",
   "mimetype": "text/x-python",
   "name": "python",
   "nbconvert_exporter": "python",
   "pygments_lexer": "ipython3",
   "version": "3.7.3"
  }
 },
 "nbformat": 4,
 "nbformat_minor": 2
}
